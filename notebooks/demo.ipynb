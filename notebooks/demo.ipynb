{
 "cells": [
  {
   "cell_type": "markdown",
   "metadata": {},
   "source": [
    "# ETHOS Demo: Text Generation\n",
    "\n",
    "This notebook demonstrates how to load a trained ETHOS model and generate text.\n",
    "\n",
    "**License**: This code is licensed under AGPLv3. For commercial use, contact wryanmedford@gmail.com"
   ]
  },
  {
   "cell_type": "code",
   "execution_count": null,
   "metadata": {},
   "outputs": [],
   "source": [
    "import sys\n",
    "sys.path.append('..')\n",
    "\n",
    "import torch\n",
    "import torch.nn.functional as F\n",
    "from model import CompressedMoEModel\n",
    "from train import Config\n",
    "import tiktoken\n",
    "import numpy as np"
   ]
  },
  {
   "cell_type": "markdown",
   "metadata": {},
   "source": [
    "## Load Model"
   ]
  },
  {
   "cell_type": "code",
   "execution_count": null,
   "metadata": {},
   "outputs": [],
   "source": [
    "# Load configuration\n",
    "config = Config('../configs/default.yaml')\n",
    "\n",
    "# Initialize model\n",
    "device = torch.device('cuda' if torch.cuda.is_available() else 'cpu')\n",
    "model = CompressedMoEModel(config).to(device)\n",
    "\n",
    "# Load checkpoint (update path to your checkpoint)\n",
    "checkpoint_path = '../checkpoints/latest/pytorch_model.bin'\n",
    "try:\n",
    "    state_dict = torch.load(checkpoint_path, map_location=device)\n",
    "    model.load_state_dict(state_dict)\n",
    "    print(\"Model loaded successfully!\")\n",
    "except FileNotFoundError:\n",
    "    print(\"No checkpoint found, using random initialization\")\n",
    "\n",
    "model.eval()\n",
    "\n",
    "# Initialize tokenizer\n",
    "enc = tiktoken.get_encoding(\"cl100k_base\")"
   ]
  },
  {
   "cell_type": "markdown",
   "metadata": {},
   "source": [
    "## Text Generation Function"
   ]
  },
  {
   "cell_type": "code",
   "execution_count": null,
   "metadata": {},
   "outputs": [],
   "source": [
    "@torch.no_grad()\n",
    "def generate(\n",
    "    model,\n",
    "    prompt,\n",
    "    max_new_tokens=100,\n",
    "    temperature=0.8,\n",
    "    top_k=50,\n",
    "    top_p=0.9,\n",
    "    repetition_penalty=1.0,\n",
    "    seed=None\n",
    "):\n",
    "    \"\"\"Generate text from a prompt\"\"\"\n",
    "    \n",
    "    if seed is not None:\n",
    "        torch.manual_seed(seed)\n",
    "        np.random.seed(seed)\n",
    "    \n",
    "    # Encode prompt\n",
    "    input_ids = enc.encode(prompt, allowed_special=\"all\")\n",
    "    input_ids = torch.tensor([input_ids], dtype=torch.long).to(device)\n",
    "    \n",
    "    generated_tokens = []\n",
    "    \n",
    "    # Generate tokens\n",
    "    for _ in range(max_new_tokens):\n",
    "        # Get model predictions\n",
    "        with torch.cuda.amp.autocast(dtype=torch.bfloat16):\n",
    "            outputs = model(input_ids)\n",
    "        \n",
    "        # Get logits for the last position\n",
    "        next_token_logits = outputs[0, -1, :]\n",
    "        \n",
    "        # Apply repetition penalty\n",
    "        if repetition_penalty != 1.0 and generated_tokens:\n",
    "            for token_id in set(generated_tokens):\n",
    "                if next_token_logits[token_id] < 0:\n",
    "                    next_token_logits[token_id] *= repetition_penalty\n",
    "                else:\n",
    "                    next_token_logits[token_id] /= repetition_penalty\n",
    "        \n",
    "        # Apply temperature\n",
    "        if temperature != 1.0:\n",
    "            next_token_logits = next_token_logits / temperature\n",
    "        \n",
    "        # Apply top-k filtering\n",
    "        if top_k is not None and top_k > 0:\n",
    "            indices_to_remove = next_token_logits < torch.topk(next_token_logits, top_k)[0][..., -1, None]\n",
    "            next_token_logits[indices_to_remove] = float('-inf')\n",
    "        \n",
    "        # Apply top-p filtering\n",
    "        if top_p is not None and top_p < 1.0:\n",
    "            sorted_logits, sorted_indices = torch.sort(next_token_logits, descending=True)\n",
    "            cumulative_probs = torch.cumsum(F.softmax(sorted_logits, dim=-1), dim=-1)\n",
    "            \n",
    "            sorted_indices_to_remove = cumulative_probs > top_p\n",
    "            sorted_indices_to_remove[..., 1:] = sorted_indices_to_remove[..., :-1].clone()\n",
    "            sorted_indices_to_remove[..., 0] = 0\n",
    "            \n",
    "            indices_to_remove = sorted_indices[sorted_indices_to_remove]\n",
    "            next_token_logits[indices_to_remove] = float('-inf')\n",
    "        \n",
    "        # Sample\n",
    "        probs = F.softmax(next_token_logits, dim=-1)\n",
    "        next_token = torch.multinomial(probs, num_samples=1)\n",
    "        \n",
    "        generated_tokens.append(next_token.item())\n",
    "        \n",
    "        # Append to input\n",
    "        input_ids = torch.cat([input_ids, next_token.unsqueeze(0)], dim=1)\n",
    "        \n",
    "        # Stop if we hit the end token\n",
    "        if next_token.item() == enc.eot_token:\n",
    "            break\n",
    "    \n",
    "    # Decode\n",
    "    generated_ids = input_ids[0].tolist()\n",
    "    generated_text = enc.decode(generated_ids)\n",
    "    \n",
    "    return generated_text"
   ]
  },
  {
   "cell_type": "markdown",
   "metadata": {},
   "source": [
    "## Generate Text"
   ]
  },
  {
   "cell_type": "code",
   "execution_count": null,
   "metadata": {},
   "outputs": [],
   "source": [
    "# Test prompts\n",
    "prompts = [\n",
    "    \"The future of artificial intelligence is\",\n",
    "    \"In a world where technology\",\n",
    "    \"The most important scientific discovery\",\n",
    "]\n",
    "\n",
    "for prompt in prompts:\n",
    "    print(f\"\\nPrompt: '{prompt}'\")\n",
    "    print(\"-\" * 50)\n",
    "    \n",
    "    # Generate with different settings\n",
    "    output = generate(\n",
    "        model,\n",
    "        prompt,\n",
    "        max_new_tokens=50,\n",
    "        temperature=0.8,\n",
    "        top_k=50,\n",
    "        top_p=0.9,\n",
    "        seed=42\n",
    "    )\n",
    "    \n",
    "    print(output)"
   ]
  },
  {
   "cell_type": "markdown",
   "metadata": {},
   "source": [
    "## Interactive Generation"
   ]
  },
  {
   "cell_type": "code",
   "execution_count": null,
   "metadata": {},
   "outputs": [],
   "source": [
    "# Interactive generation cell\n",
    "your_prompt = \"Once upon a time\"\n",
    "\n",
    "output = generate(\n",
    "    model,\n",
    "    your_prompt,\n",
    "    max_new_tokens=100,\n",
    "    temperature=0.8,\n",
    "    top_k=50,\n",
    "    top_p=0.9\n",
    ")\n",
    "\n",
    "print(output)"
   ]
  },
  {
   "cell_type": "markdown",
   "metadata": {},
   "source": [
    "## Analyze Expert Usage"
   ]
  },
  {
   "cell_type": "code",
   "execution_count": null,
   "metadata": {},
   "outputs": [],
   "source": [
    "# Analyze which experts are being used\n",
    "@torch.no_grad()\n",
    "def analyze_expert_usage(model, text, layer_idx=2):\n",
    "    \"\"\"Analyze expert routing for a given text\"\"\"\n",
    "    \n",
    "    # Encode text\n",
    "    input_ids = enc.encode(text, allowed_special=\"all\")\n",
    "    input_ids = torch.tensor([input_ids], dtype=torch.long).to(device)\n",
    "    \n",
    "    # Forward pass through layers\n",
    "    h = model.tok_embeddings(input_ids)\n",
    "    \n",
    "    for i, layer in enumerate(model.layers):\n",
    "        if i == layer_idx and hasattr(layer.mlp, 'router'):\n",
    "            # Get routing decisions\n",
    "            x_flat = h.view(-1, config.d_model)\n",
    "            scores, indices = layer.mlp.router(x_flat)\n",
    "            \n",
    "            # Analyze\n",
    "            print(f\"Layer {i} Expert Usage:\")\n",
    "            print(f\"  Shape: scores={scores.shape}, indices={indices.shape}\")\n",
    "            print(f\"  Unique experts used: {len(torch.unique(indices))}\")\n",
    "            print(f\"  Top 5 most used experts: {torch.mode(indices.flatten())[0].item()}\")\n",
    "            \n",
    "            return scores, indices\n",
    "        \n",
    "        # Regular forward\n",
    "        seq_len = h.shape[1]\n",
    "        attention_mask = torch.full((seq_len, seq_len), float(\"-inf\"), device=device, dtype=h.dtype)\n",
    "        attention_mask = torch.triu(attention_mask, diagonal=1)\n",
    "        position_ids = torch.arange(0, seq_len, dtype=torch.long, device=device)\n",
    "        h = layer(h, attention_mask, position_ids)\n",
    "\n",
    "# Analyze a sample text\n",
    "scores, indices = analyze_expert_usage(model, \"The future of AI is bright\", layer_idx=3)"
   ]
  }
 ],
 "metadata": {
  "kernelspec": {
   "display_name": "Python 3",
   "language": "python",
   "name": "python3"
  },
  "language_info": {
   "codemirror_mode": {
    "name": "ipython",
    "version": 3
   },
   "file_extension": ".py",
   "mimetype": "text/x-python",
   "name": "python",
   "nbconvert_exporter": "python",
   "pygments_lexer": "ipython3",
   "version": "3.10.0"
  }
 },
 "nbformat": 4,
 "nbformat_minor": 4
}